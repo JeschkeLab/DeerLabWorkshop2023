{
 "cells": [
  {
   "cell_type": "markdown",
   "id": "1cf4ce37",
   "metadata": {},
   "source": [
    "# Exercise sheet"
   ]
  },
  {
   "cell_type": "code",
   "execution_count": null,
   "id": "a5488859",
   "metadata": {},
   "outputs": [],
   "source": [
    "import numpy as np\n",
    "import matplotlib.pyplot as plt\n",
    "import deerlab as dl"
   ]
  },
  {
   "cell_type": "markdown",
   "id": "a38e0fe0",
   "metadata": {},
   "source": [
    "### Exercise 1: Multi-pathway 4-pulse DEER"
   ]
  },
  {
   "cell_type": "markdown",
   "id": "05b6ec9b",
   "metadata": {},
   "source": [
    "**1.a: Loading data**\n",
    "- Please load data from the \"../data/Exercise1.DTA\"\n",
    "- Please correct the phase\n",
    "- Please normalise the data\n",
    "- Please correct for deadtime (Here it was 300ns)"
   ]
  },
  {
   "cell_type": "code",
   "execution_count": null,
   "id": "d9d43341",
   "metadata": {},
   "outputs": [],
   "source": [
    "# Your solution goes here"
   ]
  },
  {
   "cell_type": "markdown",
   "id": "20c60ef7",
   "metadata": {},
   "source": [
    "**1.b: Building the model**\n",
    "- Define a r axis.\n",
    "- Please create a 4pdeer experiment, with the correct tau values\n",
    "- Use this experiment to build a non-parametric model\n",
    "- Please print this model"
   ]
  },
  {
   "cell_type": "code",
   "execution_count": null,
   "id": "4181c581",
   "metadata": {},
   "outputs": [],
   "source": [
    "# Your solution goes here"
   ]
  },
  {
   "cell_type": "markdown",
   "id": "cacf0b2d",
   "metadata": {},
   "source": [
    "**1.c: Fitting**\n",
    "- Please fit your data\n",
    "    - If you are using Binder please add these aditonal fitting arguments: `ftol=1e3` \n",
    "- Print your results\n",
    "- Plot the time domain, using the built in method"
   ]
  },
  {
   "cell_type": "code",
   "execution_count": null,
   "id": "7f144ea1",
   "metadata": {},
   "outputs": [],
   "source": [
    "# Your solution goes here"
   ]
  },
  {
   "cell_type": "markdown",
   "id": "e48c3464",
   "metadata": {},
   "source": [
    "**1.d: Extracting the distance distributions**\n",
    "- Create a variable ieth the distance distribution, and it 95% confidence interval\n",
    "- Use the `diststats` function to get distance infomation"
   ]
  },
  {
   "cell_type": "code",
   "execution_count": null,
   "id": "f00cef52",
   "metadata": {},
   "outputs": [],
   "source": [
    "# Your solution goes here"
   ]
  },
  {
   "cell_type": "markdown",
   "id": "061c6625",
   "metadata": {},
   "source": [
    "**1.e: Plotting**\n",
    "Modify the following script to plot your data.\n",
    "- Give the plot a useful title\n",
    "- Add the distance data to the plot, with uncertainty. \n",
    "- Add axes labels to the distance domain\n",
    "- Save the figure"
   ]
  },
  {
   "cell_type": "code",
   "execution_count": null,
   "id": "5aa2d8e0",
   "metadata": {},
   "outputs": [],
   "source": [
    "plt.figure(figsize=[10,3])\n",
    "plt.subplot(1,2,1)\n",
    "plt.plot(t,Vexp,'.',label='data',color='0.6')\n",
    "plt.plot(t,Vfit,linewidth=3,color='C0',label='Fit')\n",
    "plt.fill_between(t,Vci95[:,0],Vci95[:,1],alpha=0.2,color='C0')\n",
    "\n",
    "plt.legend()\n",
    "plt.xlabel('t (µs)')\n",
    "plt.ylabel('V (arb.u.)')\n",
    "\n",
    "\n",
    "plt.subplot(1,2,2)\n",
    "\n",
    "# Plot the fitted distance distribution\n",
    "\n",
    "# Plot the confidence bands as a filled area\n",
    "\n",
    "# Add the axes labels\n",
    "plt.show()"
   ]
  },
  {
   "cell_type": "code",
   "execution_count": null,
   "id": "7ba2c52c",
   "metadata": {},
   "outputs": [],
   "source": []
  },
  {
   "cell_type": "markdown",
   "id": "06953e73",
   "metadata": {},
   "source": [
    "### Exercise 2: 5pDEER with the compactness criterion and Gaussian fitting"
   ]
  },
  {
   "cell_type": "markdown",
   "id": "2d45fb42",
   "metadata": {},
   "source": [
    "**1.a: Loading data**\n",
    "- Please load data from the \"../Data/Exercise2.DTA\"\n",
    "- Please correct the phase\n",
    "- Please normalise the data\n",
    "- Please correct for deadtime (Here it was 300ns)"
   ]
  },
  {
   "cell_type": "code",
   "execution_count": null,
   "id": "92a51c06",
   "metadata": {},
   "outputs": [],
   "source": [
    "# Your solution goes here"
   ]
  },
  {
   "cell_type": "markdown",
   "id": "1a634f08",
   "metadata": {},
   "source": [
    "**1.b: Building the model**\n",
    "- Define a r axis.\n",
    "- Please create a 5pdeer experiment, with the correct tau values\n",
    "- Create a single gaussian model with `dd_gauss`\n",
    "- Use this experiment to build a dipola model\n",
    "- Please print this model"
   ]
  },
  {
   "cell_type": "code",
   "execution_count": null,
   "id": "82f0354a",
   "metadata": {},
   "outputs": [],
   "source": [
    "# Your solution goes here"
   ]
  },
  {
   "cell_type": "markdown",
   "id": "57083412",
   "metadata": {},
   "source": [
    "**1.c: Create the compactness penalty**\n",
    "- Use `dipolarpenalty` to build compactness penalty\n",
    "    - remember to specify the type: `type='compactness'`\n",
    "    - remember to include the Pmodel: `Pmodel=pmodel'`"
   ]
  },
  {
   "cell_type": "code",
   "execution_count": null,
   "id": "a02d3a31",
   "metadata": {},
   "outputs": [],
   "source": [
    "# Your solution goes here"
   ]
  },
  {
   "cell_type": "markdown",
   "id": "23641b93",
   "metadata": {},
   "source": [
    "**1.c: Fitting**\n",
    "- Please fit your data\n",
    "    - If you are using Binder please add these aditonal fitting arguments: `ftol=1e3` \n",
    "    - Remember to add the penalty `penalties=compactness`\n",
    "- Print your results\n",
    "- Plot the time domain, using the built in method"
   ]
  },
  {
   "cell_type": "code",
   "execution_count": null,
   "id": "1a95d0e0",
   "metadata": {},
   "outputs": [],
   "source": [
    "# Your solution goes here"
   ]
  },
  {
   "cell_type": "markdown",
   "id": "bb9bab57",
   "metadata": {},
   "source": [
    "**1.d: Extracting the distance distributions**\n",
    "- Create a variable for the distance distribution, and one for its 95% confidence interval"
   ]
  },
  {
   "cell_type": "code",
   "execution_count": null,
   "id": "08f76916",
   "metadata": {},
   "outputs": [],
   "source": [
    "# Your solution goes here"
   ]
  },
  {
   "cell_type": "markdown",
   "id": "e7f11ef3",
   "metadata": {},
   "source": [
    "**1.e: Plotting**\n",
    "Modify the following script to plot your data.\n",
    "- Give the plot a useful title\n",
    "- Add the distance data to the plot, with uncertainty. \n",
    "- Add axes labels to the distance domain\n",
    "- Save the figure"
   ]
  },
  {
   "cell_type": "code",
   "execution_count": null,
   "id": "935ba568",
   "metadata": {},
   "outputs": [],
   "source": [
    "plt.figure(figsize=[10,3])\n",
    "plt.subplot(1,2,1)\n",
    "plt.plot(t,Vexp,'.',label='data',color='0.6')\n",
    "plt.plot(t,Vfit,linewidth=3,color='C0',label='Fit')\n",
    "plt.fill_between(t,Vci95[:,0],Vci95[:,1],alpha=0.2,color='C0')\n",
    "\n",
    "plt.legend()\n",
    "plt.xlabel('t (µs)')\n",
    "plt.ylabel('V (arb.u.)')\n",
    "\n",
    "\n",
    "plt.subplot(1,2,2)\n",
    "\n",
    "# Plot the fitted distance distribution\n",
    "\n",
    "# Plot the confidence bands as a filled area\n",
    "\n",
    "# Add the axes labels\n",
    "plt.show()"
   ]
  }
 ],
 "metadata": {
  "kernelspec": {
   "display_name": "Python 3 (ipykernel)",
   "language": "python",
   "name": "python3"
  },
  "language_info": {
   "codemirror_mode": {
    "name": "ipython",
    "version": 3
   },
   "file_extension": ".py",
   "mimetype": "text/x-python",
   "name": "python",
   "nbconvert_exporter": "python",
   "pygments_lexer": "ipython3",
   "version": "3.10.8"
  }
 },
 "nbformat": 4,
 "nbformat_minor": 5
}
