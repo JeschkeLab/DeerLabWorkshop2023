{
 "cells": [
  {
   "attachments": {},
   "cell_type": "markdown",
   "metadata": {},
   "source": [
    "# Part 1: Basics of Python\n",
    "\n",
    "<img style=\"width:400px\" src=\"https://upload.wikimedia.org/wikipedia/commons/thumb/f/f8/Python_logo_and_wordmark.svg/729px-Python_logo_and_wordmark.svg.png?20210516005643\">\n",
    "\n",
    "If you are running this workshop on Binder then there is no need to install Python. These servers are free and subsequently quite slow. For more advanced applications it is recommended that you install Python locally.\n",
    "\n",
    "- [Python 3 Installation & Setup Guide](https://realpython.com/installing-python/)\n",
    "\n",
    "## Learning Objectives of Part 1\n",
    "- Basic Python principles\n",
    "- To understand Numpy's ndarrays\n",
    "- The be able to generate and export basic figures"
   ]
  },
  {
   "cell_type": "markdown",
   "metadata": {},
   "source": [
    "----------"
   ]
  },
  {
   "attachments": {},
   "cell_type": "markdown",
   "metadata": {},
   "source": [
    "## How to run Jupyter notebooks cells \n",
    "\n",
    "Jupyter notebooks are the ideal way to scientific data analysis, it is exactly what they were designed for. **Ju**lia-**Pyt**on-**R**\n",
    "\n",
    "The code is split up into cells. These cells can be either text or code, and can be run use shift + Enter\n",
    "\n",
    "- Windows: Shift + Enter\n",
    "- Mac: ⇧ + Enter "
   ]
  },
  {
   "cell_type": "markdown",
   "metadata": {},
   "source": [
    "-----------------"
   ]
  },
  {
   "cell_type": "markdown",
   "metadata": {},
   "source": [
    "## 0. Comments \n",
    "\n",
    "Any line of text preceded by a hash symbol ``#`` is considered a comment and is fully ignored by Python. "
   ]
  },
  {
   "cell_type": "code",
   "execution_count": null,
   "metadata": {},
   "outputs": [],
   "source": [
    "# This is a comment"
   ]
  },
  {
   "attachments": {},
   "cell_type": "markdown",
   "metadata": {},
   "source": [
    "## 1. Variables\n",
    "\n",
    "As in other programming languages, variables can be used to assign data\n",
    "- Specific, case-sensitive names\n",
    "- Call up value through variable names"
   ]
  },
  {
   "cell_type": "code",
   "execution_count": null,
   "metadata": {},
   "outputs": [],
   "source": [
    "height = 1.79\n",
    "weight = 68.7"
   ]
  },
  {
   "cell_type": "code",
   "execution_count": null,
   "metadata": {},
   "outputs": [],
   "source": [
    "height"
   ]
  },
  {
   "cell_type": "code",
   "execution_count": null,
   "metadata": {},
   "outputs": [],
   "source": [
    "weight"
   ]
  },
  {
   "cell_type": "markdown",
   "metadata": {},
   "source": [
    "-----"
   ]
  },
  {
   "cell_type": "markdown",
   "metadata": {},
   "source": [
    "## 2. Basic math operations\n",
    "\n",
    "The base Python language allows mathematical operations between scalar variables using the typical operators: \n",
    "- ``+`` Sum\n",
    "- ``-`` Subtraction \n",
    "- ``*`` Multiplication\n",
    "- ``/`` Division\n",
    "- ``**`` Power (in MATLAB ``^``)\n"
   ]
  },
  {
   "cell_type": "code",
   "execution_count": null,
   "metadata": {},
   "outputs": [],
   "source": [
    "height = 1.79\n",
    "weight = 68.7\n",
    "bmi = weight/height**2   \n",
    "# bmi = weight/height^2 (MATLAB)\n",
    "\n",
    "print(bmi)"
   ]
  },
  {
   "cell_type": "markdown",
   "metadata": {},
   "source": [
    "-----------"
   ]
  },
  {
   "cell_type": "markdown",
   "metadata": {},
   "source": [
    "\n",
    "## 3. Python `List`\n",
    "\n",
    "Variables holding a collection of values of any type. Similar in behavior as MATLAB's ``cell`` variables.  "
   ]
  },
  {
   "cell_type": "code",
   "execution_count": null,
   "metadata": {},
   "outputs": [],
   "source": [
    "# List with multiple types\n",
    "numberlist = [\"one\", 2, \"three\", 4, \"five\", 6, \"seven\", 8]\n",
    "# numberlist = {\"one\", 2, \"three\", 4, \"five\", 6, \"seven\", 8} (MATLAB)\n",
    "\n",
    "print(numberlist)"
   ]
  },
  {
   "cell_type": "markdown",
   "metadata": {},
   "source": [
    "Individual elements of lists can be accessed by indexing. Important: Python is a 0-indexed language, the first element corresponds to the index ``0``. List elements can also be indexed backwards using the minus sign, i.e. the last element corresponds to the index ``-1``.  "
   ]
  },
  {
   "cell_type": "code",
   "execution_count": null,
   "metadata": {},
   "outputs": [],
   "source": [
    "numberlist[0]       # First element; index=0"
   ]
  },
  {
   "cell_type": "code",
   "execution_count": null,
   "metadata": {},
   "outputs": [],
   "source": [
    "numberlist[3]       # Fourth element; index=3"
   ]
  },
  {
   "cell_type": "code",
   "execution_count": null,
   "metadata": {},
   "outputs": [],
   "source": [
    "numberlist[-1]      # Last element; index=-1"
   ]
  },
  {
   "cell_type": "markdown",
   "metadata": {},
   "source": [
    "As with MATLAB ``cell`` variables, ``list`` variables are not suited for representation of vector or matrix variables and linear algebra operations. "
   ]
  },
  {
   "cell_type": "code",
   "execution_count": null,
   "metadata": {},
   "outputs": [],
   "source": [
    "python_list = [1, 2, 3]\n",
    "python_list + python_list"
   ]
  },
  {
   "cell_type": "markdown",
   "metadata": {},
   "source": [
    "Linear algebra and any other functions of interest to scientific computing are collected in the Numpy and Scipy packages.  "
   ]
  },
  {
   "cell_type": "markdown",
   "metadata": {},
   "source": [
    "-----------"
   ]
  },
  {
   "attachments": {},
   "cell_type": "markdown",
   "metadata": {},
   "source": [
    "## 4. Functions\n",
    "\n",
    "There are two ways to write a function in python. These can be either normal function using `def` or an *anonymous* using `lambda`\n",
    "\n",
    "\n",
    "**Normal function**:\n",
    "\n",
    "These are declared with a def statement, followed by the fucntion name and it arguments. Optional arguments can be specified with `=` and it's default value.\n",
    "Functions must have a return specified otherwise they will return `None`"
   ]
  },
  {
   "cell_type": "code",
   "execution_count": null,
   "metadata": {},
   "outputs": [],
   "source": [
    "def gauss(x,a,b):\n",
    "    return a*np.exp(b*x)\n",
    "\n",
    "gauss(0,1,1)"
   ]
  },
  {
   "attachments": {},
   "cell_type": "markdown",
   "metadata": {},
   "source": [
    "For very simple functions like the one above it can sometimes be useful to write them on one line as an *anonymous* function."
   ]
  },
  {
   "cell_type": "code",
   "execution_count": null,
   "metadata": {
    "vscode": {
     "languageId": "plaintext"
    }
   },
   "outputs": [],
   "source": [
    "gauss = lambda x,a,b: a*np.exp(b*x)"
   ]
  },
  {
   "attachments": {},
   "cell_type": "markdown",
   "metadata": {},
   "source": [
    "------------"
   ]
  },
  {
   "cell_type": "markdown",
   "metadata": {},
   "source": [
    "## 4. Python packages\n",
    "\n",
    "All Python files ``.py`` containing variable and function definitions are called *modules*, whereas a collection of modules is known as a *package*. This is similar to how MATLAB functions can be defined in separate ``.m`` files and stored in a single directory. \n",
    "\n",
    "Python has its own package management system called ``pip``, which can be used to automatically download and install packages from the Python Package Index (PyPI) or to uninstall packages. For example to install Numpy, one just needs to call \n",
    "\n",
    "        pip install numpy\n",
    "        \n",
    "To automatically install the Numpy package. \n",
    "\n",
    "One a package has been installed, it has to be imported into the script to be used. For example to use Numpy's ``cos()`` function "
   ]
  },
  {
   "cell_type": "code",
   "execution_count": null,
   "metadata": {},
   "outputs": [],
   "source": [
    "cos(0)"
   ]
  },
  {
   "cell_type": "code",
   "execution_count": null,
   "metadata": {},
   "outputs": [],
   "source": [
    "import numpy\n",
    "cos(0)"
   ]
  },
  {
   "cell_type": "code",
   "execution_count": null,
   "metadata": {},
   "outputs": [],
   "source": [
    "import numpy \n",
    "numpy.cos(0)"
   ]
  },
  {
   "cell_type": "code",
   "execution_count": null,
   "metadata": {},
   "outputs": [],
   "source": [
    "import numpy as np \n",
    "np.cos(0)"
   ]
  },
  {
   "cell_type": "code",
   "execution_count": null,
   "metadata": {},
   "outputs": [],
   "source": [
    "from numpy import cos\n",
    "cos(0)"
   ]
  },
  {
   "cell_type": "markdown",
   "metadata": {},
   "source": [
    "------------"
   ]
  },
  {
   "cell_type": "markdown",
   "metadata": {},
   "source": [
    "## 5. Numpy basics\n",
    "\n",
    "<img src=\"https://upload.wikimedia.org/wikipedia/commons/thumb/3/31/NumPy_logo_2020.svg/1200px-NumPy_logo_2020.svg.png\" alt=\"drawing\" style=\"width:300px;\"/>\n",
    "\n",
    "[Numpy documentation](https://numpy.org/doc/stable/)\n",
    "\n",
    "MATLAB and NumPy have a lot in common, but NumPy was created to work with Python, not to be a MATLAB clone. Most Numpy (and Scipy) functions have the same names, behave, and are used as their MATLAB counterparts. \n",
    "\n",
    "Checkout the official Numpy guides for more details and good examples: \n",
    "\n",
    "- [Numpy quickstart](https://numpy.org/doc/stable/user/quickstart.html)\n",
    "- [Numpy for absolute beginners](https://numpy.org/doc/stable/user/absolute_beginners.html)\n",
    "- [Numpy for MATLAB users](https://numpy.org/doc/stable/user/numpy-for-matlab-users.html)"
   ]
  },
  {
   "cell_type": "markdown",
   "metadata": {},
   "source": [
    "\n",
    "Numpy arrays (known as ``ndarrays``) can be constructed directly from Python lists using the ``np.array()`` function. Mathematical operations with ``ndarrays`` behave exactly as in MATLAB. "
   ]
  },
  {
   "cell_type": "code",
   "execution_count": null,
   "metadata": {},
   "outputs": [],
   "source": [
    "vec = np.array([1, 2, 3])\n",
    "vec + vec"
   ]
  },
  {
   "cell_type": "markdown",
   "metadata": {},
   "source": [
    "As in MATLAB, Numpy provides many functions to generate arrays. Two significantly important ones are \n",
    "\n",
    "- ``np.linspace(start,end,N)``: To generate an array with N equidistant points in the range ``[start, end]``. \n",
    "\n",
    "- ``np.arange(start,end,step)``: To generate an array of equidistant points in the range ``[start, end)`` in steps of ``step``. \n"
   ]
  },
  {
   "cell_type": "code",
   "execution_count": null,
   "metadata": {},
   "outputs": [],
   "source": [
    "np.linspace(0,10,6)   # MATLAB: linspace(0,10,6)"
   ]
  },
  {
   "cell_type": "code",
   "execution_count": null,
   "metadata": {},
   "outputs": [],
   "source": [
    "np.arange(0,10,2)   # MATLAB: 0:2:10"
   ]
  },
  {
   "cell_type": "markdown",
   "metadata": {},
   "source": [
    "As mentioned, mathematical operations on Numpy arrays behave as in MATLAB. With some differences in notation. For two arrays/matrices ``A`` and ``B``: \n",
    "- ``A+B``: element-wise addition (``A+B`` in MATLAB)\n",
    "- ``A-B``: element-wise subtraction (``A-B`` in MATLAB)\n",
    "- ``A*B``: element-wise multiplication (``A.*B`` in MATLAB)\n",
    "- ``A/B``: element-wise division (``A./B`` in MATLAB)\n",
    "- ``A**B``: element-wise power (``A.^B`` in MATLAB)\n",
    "- ``A@B``: matrix multiplication (``A*B`` in MATLAB)\n",
    "- ``np.cos(A)``: element-wise cosine (``cos(A)`` in MATLAB)\n",
    "- ``np.exp(A)``: element-wise exponential (``exp(A)`` in MATLAB)"
   ]
  },
  {
   "cell_type": "code",
   "execution_count": null,
   "metadata": {},
   "outputs": [],
   "source": [
    "t = np.linspace(0,5,5)\n",
    "B = np.exp(t - t**2)\n",
    "\n",
    "print(B)"
   ]
  },
  {
   "cell_type": "markdown",
   "metadata": {},
   "source": [
    "----------------"
   ]
  },
  {
   "cell_type": "markdown",
   "metadata": {},
   "source": [
    "## Exercise 1.1: Simulating an exponential decay\n",
    "*Available time: 5min*\n",
    "\n",
    "- Generate a time vector $t$ using Numpy (with the ``np.linspace`` function) in the range 0μs to 5μs with 251 points (i.e. 20ns increments). \n",
    "\n",
    "- Calculate an exponential decay $B(t)$ given by \n",
    "\n",
    "    $B(t) = \\mathrm{exp}(-\\kappa t)$\n",
    "\n",
    "    with a decay rate $\\kappa$ = 0.04 $\\mathrm{\\mu s}^{-1}$. \n",
    "\n",
    "- Print the first and last element of the decay curve. "
   ]
  },
  {
   "cell_type": "code",
   "execution_count": null,
   "metadata": {},
   "outputs": [],
   "source": [
    "import numpy as np \n",
    "\n",
    "# <your script goes here>"
   ]
  },
  {
   "cell_type": "markdown",
   "metadata": {},
   "source": [
    "--------------------"
   ]
  },
  {
   "cell_type": "markdown",
   "metadata": {},
   "source": [
    "## 6. Matplotlib basics \n",
    "\n",
    "<img style=\"width:400px\" src=\"https://matplotlib.org/stable/_static/logo2.svg\">\n",
    "\n",
    "[Matplotlib documentation](https://matplotlib.org/stable/index.html)\n",
    "\n",
    "The standard in data analysis visualization with Python. It allows us to create plots with MATLAB-like syntax. The Matplotlib package has several subpackages for different applications. For our purposes, we use the ``pyplot`` subpackage.  "
   ]
  },
  {
   "cell_type": "code",
   "execution_count": null,
   "metadata": {},
   "outputs": [],
   "source": [
    "import matplotlib.pyplot as plt\n",
    "\n",
    "# Distance vector\n",
    "r = np.linspace(0,10,1000) # nm\n",
    "\n",
    "# Lorentzian distance distribution\n",
    "rmean = 5 # nm\n",
    "gamma = 0.2 # nm\n",
    "P = 1/(2*np.pi)*gamma/((r-rmean)**2 + (1/2*gamma)**2) # nm^-1\n",
    "\n",
    "# Plot the array\n",
    "plt.plot(r,P)\n",
    "# Show the plot\n",
    "plt.show()"
   ]
  },
  {
   "cell_type": "markdown",
   "metadata": {},
   "source": [
    "The ``matplotlib.pyplot`` package allows us to easily customize the plot by specifying the axis labels, title, ticks, axis limits, etc. "
   ]
  },
  {
   "cell_type": "code",
   "execution_count": null,
   "metadata": {},
   "outputs": [],
   "source": [
    "# Plot the array\n",
    "plt.plot(r,P,'b')\n",
    "\n",
    "# Modify the plot\n",
    "plt.xlabel('r (nm)')\n",
    "plt.ylabel('P(r) [nm$^{-1}$]')\n",
    "plt.title('Lorentzian distance distribution')\n",
    "plt.xlim([3,7])\n",
    "plt.ylim([0,3.5])\n",
    "\n",
    "# Display the plot\n",
    "plt.show()"
   ]
  },
  {
   "cell_type": "markdown",
   "metadata": {},
   "source": [
    "The plots can be easily exported out of Python in different formats using the ``plt.savefig()`` function."
   ]
  },
  {
   "cell_type": "code",
   "execution_count": null,
   "metadata": {},
   "outputs": [],
   "source": [
    "# Plot the array\n",
    "plt.plot(r,P,'b')\n",
    "\n",
    "# Modify the plot\n",
    "plt.xlabel('r (nm)')\n",
    "plt.ylabel('P(r) [nm$^{-1}$]')\n",
    "plt.title('Lorentzian distance distribution')\n",
    "plt.xlim([3,7])\n",
    "plt.ylim([0,3.5])\n",
    "\n",
    "# Export the plot as vector graphic and as pixel graphic\n",
    "plt.savefig('exported_plot.svg')\n",
    "plt.savefig('exported_plot.png')\n",
    "\n",
    "# Display the plot\n",
    "plt.show()"
   ]
  },
  {
   "cell_type": "markdown",
   "metadata": {},
   "source": [
    "--------------"
   ]
  },
  {
   "cell_type": "markdown",
   "metadata": {},
   "source": [
    "## Exercise 1.2: Exporting a distance distribution plot with Python\n",
    "\n",
    "*Available time: 7min*\n",
    "\n",
    "- Generate a distance vector $r$ using Numpy (either with the ``np.linspace`` or ``np.arange`` functions) in the range 0-10nm with 1000 points.\n",
    "\n",
    "- Calculate a Gaussian distance distribution $P(r)$ given by \n",
    "\n",
    "    $P(r) = \\frac{1}{\\sigma\\sqrt{2\\pi}}\\exp\\left(-\\frac{(r-\\left<r\\right>)^2}{2\\sigma^2}\\right)$\n",
    "\n",
    "    with $\\left<r\\right>$=4nm and $\\sigma$=0.5nm. Numpy provides the functions ``np.sqrt()`` (square-root), ``np.exp()`` (exponential), and the constant ``np.pi`` (𝜋). For squaring, remember to use ``**2``.\n",
    "\n",
    "- Plot the resulting array using Matplotlib.\n",
    "\n",
    "- Customize your plot by labelling the axes, adjusting the plotted range to the 3-5nm range, and adding a title. \n",
    "\n",
    "- Export the plot as a ``png`` figure. "
   ]
  },
  {
   "cell_type": "code",
   "execution_count": null,
   "metadata": {},
   "outputs": [],
   "source": [
    "import numpy as np \n",
    "import matplotlib.pyplot as plt \n",
    "\n",
    "# <your script goes here>"
   ]
  },
  {
   "cell_type": "markdown",
   "metadata": {},
   "source": [
    "-----------------"
   ]
  },
  {
   "cell_type": "markdown",
   "metadata": {},
   "source": [
    "## Matplotlib cheatsheets\n",
    "\n",
    "The Matplotlib documentation offers very practical cheatsheets for plotting and manipulating plots and figures using Python and Matplotlib.\n",
    "\n",
    "- [Matplotlib cheatsheets](https://matplotlib.org/cheatsheets/)\n"
   ]
  },
  {
   "cell_type": "markdown",
   "metadata": {},
   "source": [
    "![title](https://matplotlib.org/cheatsheets/_images/handout-beginner.png)\n"
   ]
  },
  {
   "cell_type": "code",
   "execution_count": null,
   "metadata": {},
   "outputs": [],
   "source": []
  }
 ],
 "metadata": {
  "kernelspec": {
   "display_name": "Python 3.9.5 64-bit",
   "language": "python",
   "name": "python3"
  },
  "language_info": {
   "codemirror_mode": {
    "name": "ipython",
    "version": 3
   },
   "file_extension": ".py",
   "mimetype": "text/x-python",
   "name": "python",
   "nbconvert_exporter": "python",
   "pygments_lexer": "ipython3",
   "version": "3.9.5"
  },
  "orig_nbformat": 4,
  "vscode": {
   "interpreter": {
    "hash": "81794d4967e6c3204c66dcd87b604927b115b27c00565d3d43f05ba2f3a2cb0d"
   }
  }
 },
 "nbformat": 4,
 "nbformat_minor": 2
}
